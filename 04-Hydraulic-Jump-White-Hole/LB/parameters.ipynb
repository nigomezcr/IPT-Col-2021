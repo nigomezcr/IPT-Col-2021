{
 "metadata": {
  "language_info": {
   "codemirror_mode": {
    "name": "ipython",
    "version": 3
   },
   "file_extension": ".py",
   "mimetype": "text/x-python",
   "name": "python",
   "nbconvert_exporter": "python",
   "pygments_lexer": "ipython3",
   "version": "3.8.5-final"
  },
  "orig_nbformat": 2,
  "kernelspec": {
   "name": "python3",
   "display_name": "Python 3",
   "language": "python"
  }
 },
 "nbformat": 4,
 "nbformat_minor": 2,
 "cells": [
  {
   "source": [
    "# Parameters\n",
    "This notebook calculates parameters for the fluids LB"
   ],
   "cell_type": "markdown",
   "metadata": {}
  },
  {
   "cell_type": "code",
   "execution_count": 16,
   "metadata": {},
   "outputs": [
    {
     "output_type": "stream",
     "name": "stdout",
     "text": [
      "Number of nodes in x: 300\nNumber of nodes in y: 10\nNumber of nodes in jet: 30\n\ntau: 0.55\ndt: 4.6816e-06 s\nNumber of steps: 1.1e+06\n\nStream velocity: 0.008669718407546132\n"
     ]
    }
   ],
   "source": [
    "import numpy as np\n",
    "import astropy.units as un\n",
    "\n",
    "# LB\n",
    "#dt = 1e-4*un.s\n",
    "tau = 0.55\n",
    "\n",
    "# Water parameters\n",
    "mu = 8.90e-4*un.Pa*un.s\n",
    "rho = un.kg/(un.m**3)\n",
    "\n",
    "flux = 0.5*un.liter/un.min\n",
    "\n",
    "# Spacetime parameters\n",
    "Lx = 15e-2*un.m\n",
    "Ly = 0.5e-2*un.m\n",
    "R = 0.75e-2*un.m\n",
    "\n",
    "t_max = 5*un.s\n",
    "\n",
    "A = ((3e-3)*un.m)**2\n",
    "\n",
    "dl = 0.5e-3*un.m # Spacing between nodes\n",
    "\n",
    "# LB fluid parameters\n",
    "nu = mu/rho # Kinematic viscosity\n",
    "\n",
    "#tau = (3*nu*dt/(dl**2)) + 0.5\n",
    "dt = (tau - 0.5)*(dl**2)/(3*nu)\n",
    "\n",
    "# ========\n",
    "\n",
    "print(f\"Number of nodes in x: {Lx/dl:.0f}\")\n",
    "print(f\"Number of nodes in y: {Ly/dl:.0f}\")\n",
    "print(f\"Number of nodes in jet: {2*R/dl:.0f}\")\n",
    "print('')\n",
    "print(f\"tau: {tau}\")\n",
    "print(f\"dt: {dt.decompose():.4e}\")\n",
    "print(f\"Number of steps: {(t_max/dt).decompose():.1e}\")\n",
    "print('')\n",
    "print(f\"Stream velocity: {(flux*dt/(A*dl)).decompose()}\")\n",
    "\n",
    "\n"
   ]
  },
  {
   "cell_type": "code",
   "execution_count": 3,
   "metadata": {},
   "outputs": [
    {
     "output_type": "stream",
     "name": "stdout",
     "text": [
      "Drop computational radius: 4.0\nDrop mass: 4.042182547618867e-06 kg\n"
     ]
    }
   ],
   "source": [
    "drop_r = 1e-3*un.m\n",
    "drop_mass = 4*np.pi*drop_r**3*rho/3\n",
    "\n",
    "print(f\"Drop computational radius: {(drop_r/dl).decompose()}\")\n",
    "print(f\"Drop mass: {drop_mass}\")"
   ]
  }
 ]
}