{
 "cells": [
  {
   "cell_type": "markdown",
   "metadata": {},
   "source": [
    "# Parameter Definition\n",
    "\n",
    "This problem is defined by \n",
    "* $l_x$\n",
    "* $l_y$\n",
    "* $L_y$\n",
    "* $\\lambda$\n",
    "* $n_0$\n",
    "\n",
    "## Wave parameters\n",
    "\n",
    "$$k_0 = \\frac{2 \\pi}{\\lambda}$$\n",
    "\n",
    "$$C = \\frac{1}{2 k_0 n_0} =  \\frac{\\lambda}{4 \\pi n_0}$$\n",
    "\n",
    "## Numerical parameters\n",
    "\n",
    "$$\\Delta y = \\frac{l_y}{L_y}$$\n",
    "\n",
    "$$h = \\frac{\\Delta y^2}{2 c_1} = \\frac{2 \\pi l_y n_0}{\\lambda L_y}$$\n",
    "$$L_x = \\frac{l_x}{h} = \\frac{l_x \\lambda L_y}{2 \\pi l_y n_0}$$"
   ]
  },
  {
   "cell_type": "code",
   "execution_count": 1,
   "metadata": {},
   "outputs": [
    {
     "name": "stdout",
     "output_type": "stream",
     "text": [
      "C\t= 4.220859e+01\n",
      "dy\t= 7.519531e+03\n",
      "dy^2\t= 5.654335e+07\n",
      "h\t= 8.907584e+01\n",
      "Lx\t= 129103\n"
     ]
    }
   ],
   "source": [
    "import numpy as np\n",
    "\n",
    "# Initial Values\n",
    "lx = 11.5e6 # nm\n",
    "ly = 7.7e6 # nm\n",
    "lambda_ = 532 # nm\n",
    "n0 = 1.003\n",
    "\n",
    "Ly = 1024\n",
    "\n",
    "# Wave\n",
    "C = lambda_ / (4*np.pi*n0)\n",
    "print(f\"C\\t= {C:e}\")\n",
    "\n",
    "# numerical\n",
    "dy = ly/Ly\n",
    "h = 2*np.pi*ly*n0/(lambda_*Ly)\n",
    "Lx = int(lx*lambda_*Ly/(2*np.pi*ly*n0))\n",
    "\n",
    "print(f\"dy\\t= {dy:e}\")\n",
    "print(f\"dy^2\\t= {dy*dy:e}\")\n",
    "print(f\"h\\t= {h:e}\")\n",
    "print(f\"Lx\\t= {Lx}\")"
   ]
  }
 ],
 "metadata": {
  "kernelspec": {
   "display_name": "Python 3",
   "language": "python",
   "name": "python3"
  },
  "language_info": {
   "codemirror_mode": {
    "name": "ipython",
    "version": 3
   },
   "file_extension": ".py",
   "mimetype": "text/x-python",
   "name": "python",
   "nbconvert_exporter": "python",
   "pygments_lexer": "ipython3",
   "version": "3.8.5"
  }
 },
 "nbformat": 4,
 "nbformat_minor": 2
}
