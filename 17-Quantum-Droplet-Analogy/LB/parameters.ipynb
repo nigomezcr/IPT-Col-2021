{
 "metadata": {
  "language_info": {
   "codemirror_mode": {
    "name": "ipython",
    "version": 3
   },
   "file_extension": ".py",
   "mimetype": "text/x-python",
   "name": "python",
   "nbconvert_exporter": "python",
   "pygments_lexer": "ipython3",
   "version": "3.8.5-final"
  },
  "orig_nbformat": 2,
  "kernelspec": {
   "name": "python3",
   "display_name": "Python 3",
   "language": "python"
  }
 },
 "nbformat": 4,
 "nbformat_minor": 2,
 "cells": [
  {
   "source": [
    "# Parameters\n",
    "This notebook calculates parameters for the fluids LB"
   ],
   "cell_type": "markdown",
   "metadata": {}
  },
  {
   "cell_type": "code",
   "execution_count": 1,
   "metadata": {},
   "outputs": [
    {
     "output_type": "stream",
     "name": "stdout",
     "text": [
      "Number of nodes in x: 200\nNumber of nodes in y: 200\nNumber of nodes in z: 30\ntau: 0.6\nNumber of steps = 6.2e+05\nGravity acceleration: 5.0700e-04\nOmega: 2*pi*8.0417e-03\n"
     ]
    }
   ],
   "source": [
    "import numpy as np\n",
    "import astropy.units as un\n",
    "\n",
    "# LB\n",
    "#dt = 1e-4*un.s\n",
    "tau = 0.6\n",
    "\n",
    "# Oil parameters\n",
    "mu = 50e-3*un.Pa*un.s\n",
    "rho = 0.965e3*un.kg/(un.m**3)\n",
    "\n",
    "# Spacetime parameters\n",
    "Lx = Ly = 100e-3*un.m\n",
    "h = 10e-3*un.m\n",
    "Lz = 1.5*h\n",
    "\n",
    "dl = 0.5e-3*un.m # Spacing between nodes\n",
    "tmax = 100*un.s\n",
    "f = 50*un.Hz\n",
    "\n",
    "# LB fluid parameters\n",
    "nu = mu/rho # Kinematic viscosity\n",
    "\n",
    "#tau = (3*nu*dt/(dl**2)) + 0.5\n",
    "dt = (tau -0.5)*dl**2/(3*nu)\n",
    "g = 9.8*un.m/(un.s**2)\n",
    "\n",
    "print(f\"Number of nodes in x: {Lx/dl:.0f}\")\n",
    "print(f\"Number of nodes in y: {Ly/dl:.0f}\")\n",
    "print(f\"Number of nodes in z: {Lz/dl:.0f}\")\n",
    "\n",
    "print(f\"tau: {tau}\")\n",
    "print(f\"Number of steps = {(tmax/dt).decompose():.1e}\")\n",
    "\n",
    "print(f\"Gravity acceleration: {(g*(dt**2)/dl).decompose():.4e}\")\n",
    "print(f\"Omega: 2*pi*{(f*dt).decompose():.4e}\")\n",
    "\n",
    "\n"
   ]
  }
 ]
}