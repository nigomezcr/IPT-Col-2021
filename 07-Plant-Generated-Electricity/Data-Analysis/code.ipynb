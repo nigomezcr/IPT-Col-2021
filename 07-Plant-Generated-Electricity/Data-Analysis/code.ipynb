{
 "cells": [
  {
   "cell_type": "code",
   "execution_count": 1,
   "id": "pharmaceutical-creek",
   "metadata": {},
   "outputs": [],
   "source": [
    "import numpy as np\n",
    "import os"
   ]
  },
  {
   "cell_type": "code",
   "execution_count": 2,
   "id": "brilliant-editor",
   "metadata": {},
   "outputs": [],
   "source": [
    "def getdata(mytype):\n",
    "    folder = '../Data/' + mytype + '/'\n",
    "    all_files = os.listdir(folder)\n",
    "    files = [ x for x in all_files if x.endswith(\".csv\") ]\n",
    "    files.sort()\n",
    "\n",
    "    data = []\n",
    "    for x in files:\n",
    "        data.append(np.genfromtxt(folder + x, delimiter=',', encoding='utf-8', dtype=None))\n",
    "    \n",
    "    return data"
   ]
  },
  {
   "cell_type": "code",
   "execution_count": 3,
   "id": "constitutional-oracle",
   "metadata": {},
   "outputs": [],
   "source": [
    "data = []\n",
    "data.append(getdata('Dead-Soil'))\n",
    "data.append(getdata('Living-Soil'))\n",
    "data.append(getdata('Plants-Light'))\n",
    "data.append(getdata('Plants-No-Light'))"
   ]
  },
  {
   "cell_type": "code",
   "execution_count": 6,
   "id": "eight-cedar",
   "metadata": {},
   "outputs": [],
   "source": [
    "def Unify_Juan(data, name):\n",
    "    myfile = open(name, \"w+\")\n",
    "    for i in range(len(data[0][0][0])):\n",
    "        myfile.write(',' + str(data[0][0][0][i]))\n",
    "    myfile.write(',Pot,Experiment\\n')\n",
    "    \n",
    "    count = 0\n",
    "    for i in range(len(data)):\n",
    "        for j in range(len(data[i])):\n",
    "            for k in range(1,len(data[i][j])):\n",
    "                myfile.write(str(count))\n",
    "                for l in range(len(data[i][j][k])):\n",
    "                    myfile.write(',' + str(data[i][j][k][l]))\n",
    "                myfile.write(',' + str(j) + ',' + str(i) + '\\n')\n",
    "                count += 1\n",
    "    myfile.close()\n",
    "    \n",
    "Unify_Juan(data, \"Data_Juan.csv\")"
   ]
  },
  {
   "cell_type": "code",
   "execution_count": null,
   "id": "preceding-syndrome",
   "metadata": {},
   "outputs": [],
   "source": [
    "def Daniel_plots(data):\n",
    "    num = len(data)\n",
    "    prom = np.zeros(num)\n",
    "    for i in range(num):\n",
    "        for j in range(1,6):\n",
    "            prom[i] += float(data[i][j][3])\n",
    "\n",
    "    myfile = open(mytype + \".csv\", \"w+\")\n",
    "\n",
    "    for j in range(num):\n",
    "        myfile.write(',Pot' + str(j+1))\n",
    "    myfile.write('\\n')\n",
    "\n",
    "    count = 0\n",
    "    for i in range(6, len(data[0])):\n",
    "        if(data[0][i][1] != ''):\n",
    "            for j in range(num):\n",
    "                prom[j] /= 5.0\n",
    "        \n",
    "            count += 1\n",
    "            myfile.write(str(count))\n",
    "            for j in range(num):\n",
    "                myfile.write(',' + str(prom[j]))\n",
    "            myfile.write('\\n')\n",
    "        \n",
    "            for j in range(num):\n",
    "                prom[j] = float(data[j][i][3])\n",
    "        \n",
    "        else:\n",
    "            for j in range(num):\n",
    "                prom[j] += float(data[j][i][3])\n",
    "    myfile.close()"
   ]
  },
  {
   "cell_type": "code",
   "execution_count": null,
   "id": "blond-fusion",
   "metadata": {},
   "outputs": [],
   "source": []
  }
 ],
 "metadata": {
  "kernelspec": {
   "display_name": "Python 3",
   "language": "python",
   "name": "python3"
  },
  "language_info": {
   "codemirror_mode": {
    "name": "ipython",
    "version": 3
   },
   "file_extension": ".py",
   "mimetype": "text/x-python",
   "name": "python",
   "nbconvert_exporter": "python",
   "pygments_lexer": "ipython3",
   "version": "3.8.3"
  }
 },
 "nbformat": 4,
 "nbformat_minor": 5
}
