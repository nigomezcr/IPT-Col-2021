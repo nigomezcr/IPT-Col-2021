{
 "cells": [
  {
   "cell_type": "code",
   "execution_count": 1,
   "id": "pharmaceutical-creek",
   "metadata": {},
   "outputs": [],
   "source": [
    "import numpy as np\n",
    "import os"
   ]
  },
  {
   "cell_type": "code",
   "execution_count": 2,
   "id": "combined-marker",
   "metadata": {},
   "outputs": [],
   "source": [
    "mytype = 'Dead-Soil'\n",
    "folder = '../Data/' + mytype + '/'\n",
    "all_files = os.listdir(folder)\n",
    "files = [ x for x in all_files if x.endswith(\".csv\") ]\n",
    "files.sort()\n",
    "\n",
    "data = []\n",
    "for x in files:\n",
    "    data.append(np.genfromtxt(folder + x, delimiter=',', encoding='utf-8', dtype=None))"
   ]
  },
  {
   "cell_type": "code",
   "execution_count": 5,
   "id": "preceding-syndrome",
   "metadata": {},
   "outputs": [
    {
     "name": "stdout",
     "output_type": "stream",
     "text": [
      "[0. 0. 0. 0. 0.]\n"
     ]
    },
    {
     "data": {
      "text/plain": [
       "'\\n    \\nmyfile = open(\"Plants-No-Light/data_modified_Juan.csv\", \"w+\")\\nmyfile.write(\",Pot1,Pot2,Pot3,Pot4,Pot5\\n\")\\ncount = 0\\nfor i in range(6, len(data1)):\\n    if(data1[i][1] != \\'\\'):\\n        prom1 /= 5.0;        prom2 /= 5.0;        prom3 /= 5.0\\n        prom4 /= 5.0;        prom5 /= 5.0\\n        \\n        count += 1\\n        myfile.write(str(count) + \\',\\' + str(prom1) + \\',\\' + str(prom2) + \\',\\')\\n        myfile.write(str(prom3) + \\',\\' + str(prom4) + \\',\\' + str(prom5) + \\'\\n\\')\\n        \\n        prom1 = float(data1[i][3]);        prom2 = float(data2[i][3])\\n        prom3 = float(data3[i][3]);        prom4 = float(data4[i][3])\\n        prom5 = float(data5[i][3])\\n        \\n    else:\\n        prom1 += float(data1[i][3]);        prom2 += float(data2[i][3])\\n        prom3 += float(data3[i][3]);        prom4 += float(data4[i][3])\\n        prom5 += float(data5[i][3])\\nmyfile.close()\\n'"
      ]
     },
     "execution_count": 5,
     "metadata": {},
     "output_type": "execute_result"
    }
   ],
   "source": [
    "num = len(data)\n",
    "prom = np.zeros(num)\n",
    "for i in range(num):\n",
    "    for j in range(1,6):\n",
    "        prom[i] += float(data[i][j][3])\n",
    "\n",
    "myfile = open(\"Plants-No-Light/data_modified_Juan.csv\", \"w+\")\n",
    "myfile.write(\",Pot1,Pot2,Pot3,Pot4,Pot5\\n\")\n",
    "count = 0\n",
    "for i in range(6, len(data[0])):\n",
    "    if(data[0][i][1] != ''):\n",
    "        for j in range(num):\n",
    "            prom[j] /= 5.0\n",
    "        \n",
    "        count += 1\n",
    "        myfile.write(str(count))\n",
    "        for j in range(num):\n",
    "            myfile.write(',' + str(prom[j]))\n",
    "        myfile.write('\\n')\n",
    "        \n",
    "        for j in range(num):\n",
    "            prom[j] = float(data[j][i][3])\n",
    "        \n",
    "    else:\n",
    "        for j in range(num):\n",
    "            prom[j] += float(data[j][i][3])\n",
    "myfile.close()"
   ]
  },
  {
   "cell_type": "code",
   "execution_count": null,
   "id": "satellite-homework",
   "metadata": {},
   "outputs": [],
   "source": []
  },
  {
   "cell_type": "code",
   "execution_count": null,
   "id": "latter-newport",
   "metadata": {},
   "outputs": [],
   "source": []
  }
 ],
 "metadata": {
  "kernelspec": {
   "display_name": "Python 3",
   "language": "python",
   "name": "python3"
  },
  "language_info": {
   "codemirror_mode": {
    "name": "ipython",
    "version": 3
   },
   "file_extension": ".py",
   "mimetype": "text/x-python",
   "name": "python",
   "nbconvert_exporter": "python",
   "pygments_lexer": "ipython3",
   "version": "3.8.3"
  }
 },
 "nbformat": 4,
 "nbformat_minor": 5
}
